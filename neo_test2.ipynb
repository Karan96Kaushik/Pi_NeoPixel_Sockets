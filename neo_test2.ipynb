{
 "cells": [
  {
   "cell_type": "code",
   "execution_count": 345,
   "metadata": {},
   "outputs": [],
   "source": [
    "import time\n",
    "import board\n",
    "import neopixel\n",
    "import random"
   ]
  },
  {
   "cell_type": "code",
   "execution_count": 2,
   "metadata": {},
   "outputs": [],
   "source": [
    "# Choose an open pin connected to the Data In of the NeoPixel strip, i.e. board.D18\n",
    "# NeoPixels must be connected to D10, D12, D18 or D21 to work.\n",
    "pixel_pin = board.D18\n",
    " \n",
    "# The number of NeoPixels\n",
    "num_pixels = 24\n",
    " \n",
    "# The order of the pixel colors - RGB or GRB. Some NeoPixels have red and green reversed!\n",
    "# For RGBW NeoPixels, simply change the ORDER to RGBW or GRBW.\n",
    "ORDER = neopixel.GRB\n",
    " \n",
    "pixels = neopixel.NeoPixel(\n",
    "    pixel_pin, num_pixels, brightness=0.2, auto_write=False, pixel_order=ORDER\n",
    ")\n",
    " "
   ]
  },
  {
   "cell_type": "code",
   "execution_count": 3,
   "metadata": {},
   "outputs": [],
   "source": [
    "def wheel(pos):\n",
    "    # Input a value 0 to 255 to get a color value.\n",
    "    # The colours are a transition r - g - b - back to r.\n",
    "    if pos < 0 or pos > 255:\n",
    "        r = g = b = 0\n",
    "    elif pos < 85:\n",
    "        r = int(pos * 3)\n",
    "        g = int(255 - pos * 3)\n",
    "        b = 0\n",
    "    elif pos < 170:\n",
    "        pos -= 85\n",
    "        r = int(255 - pos * 3)\n",
    "        g = 0\n",
    "        b = int(pos * 3)\n",
    "    else:\n",
    "        pos -= 170\n",
    "        r = 0\n",
    "        g = int(pos * 3)\n",
    "        b = int(255 - pos * 3)\n",
    "    return (r, g, b) if ORDER in (neopixel.RGB, neopixel.GRB) else (r, g, b, 0)\n",
    " \n",
    " \n",
    "def rainbow_cycle(wait):\n",
    "    for j in range(255):\n",
    "        for i in range(num_pixels):\n",
    "            pixel_index = (i * 256 // num_pixels) + j\n",
    "            pixels[i] = wheel(pixel_index & 255)\n",
    "        pixels.show()\n",
    "        time.sleep(wait)"
   ]
  },
  {
   "cell_type": "code",
   "execution_count": 4,
   "metadata": {},
   "outputs": [
    {
     "name": "stdout",
     "output_type": "stream",
     "text": [
      "Complete\n"
     ]
    }
   ],
   "source": [
    "if True:\n",
    "    # Comment this line out if you have RGBW/GRBW NeoPixels\n",
    "    pixels.fill((255, 0, 0, 0))\n",
    "    # Uncomment this line if you have RGBW/GRBW NeoPixels\n",
    "    # pixels.fill((255, 0, 0, 0))\n",
    "    pixels.show()\n",
    "    time.sleep(1)\n",
    " \n",
    "    # Comment this line out if you have RGBW/GRBW NeoPixels\n",
    "    pixels.fill((0, 255, 0))\n",
    "    # Uncomment this line if you have RGBW/GRBW NeoPixels\n",
    "    # pixels.fill((0, 255, 0, 0))\n",
    "    pixels.show()\n",
    "    time.sleep(1)\n",
    " \n",
    "    # Comment this line out if you have RGBW/GRBW NeoPixels\n",
    "    pixels.fill((0, 0, 255))\n",
    "    # Uncomment this line if you have RGBW/GRBW NeoPixels\n",
    "    # pixels.fill((0, 0, 255, 0))\n",
    "    pixels.show()\n",
    "    time.sleep(1)\n",
    " \n",
    "    rainbow_cycle(0.001)  # rainbow cycle with 1ms delay per step\n",
    "    print(\"Complete\")"
   ]
  },
  {
   "cell_type": "code",
   "execution_count": 6,
   "metadata": {},
   "outputs": [],
   "source": [
    "pixels.fill((0, 0, 255))"
   ]
  },
  {
   "cell_type": "code",
   "execution_count": 16,
   "metadata": {},
   "outputs": [],
   "source": [
    "pixels.fill((0, 0, 0))"
   ]
  },
  {
   "cell_type": "code",
   "execution_count": 7,
   "metadata": {},
   "outputs": [],
   "source": [
    "pixels.show()"
   ]
  },
  {
   "cell_type": "code",
   "execution_count": 5,
   "metadata": {},
   "outputs": [],
   "source": [
    "rgb_def=\"ffffff\""
   ]
  },
  {
   "cell_type": "code",
   "execution_count": 6,
   "metadata": {},
   "outputs": [],
   "source": [
    "def run_sing(rgb=rgb_def):\n",
    "    r = rgb[0:2]\n",
    "    g = rgb[2:4]\n",
    "    b = rgb[4:6]\n",
    "    pixels.fill((   int(r, 16) , int(g, 16) , int(b, 16)    ))\n",
    "    pixels.show()"
   ]
  },
  {
   "cell_type": "code",
   "execution_count": null,
   "metadata": {},
   "outputs": [],
   "source": []
  },
  {
   "cell_type": "code",
   "execution_count": 7,
   "metadata": {},
   "outputs": [],
   "source": [
    "run_sing(\"004040\")"
   ]
  },
  {
   "cell_type": "code",
   "execution_count": 22,
   "metadata": {},
   "outputs": [],
   "source": [
    "def wave(r=False, g=False, b=False):\n",
    "#     filler = (255 if r else 0, 255 if r else 0, 255 if b else 0)\n",
    "    for i in range(255):\n",
    "        filler = (i if r else 0, i if g else 0, i if b else 0)\n",
    "        pixels.fill(filler)\n",
    "        pixels.show()\n",
    "        time.sleep(0.01)\n",
    "    for i in range(255):\n",
    "        filler = (255-i if r else 0, 255-i if g else 0, 255-i if b else 0)\n",
    "        pixels.fill(filler)\n",
    "        pixels.show()\n",
    "        time.sleep(0.001)"
   ]
  },
  {
   "cell_type": "code",
   "execution_count": 28,
   "metadata": {},
   "outputs": [],
   "source": [
    "wave(1,0,0)\n",
    "wave(1,0,1)\n",
    "wave(0,0,1)\n",
    "wave(0,1,1)\n",
    "wave(1,1,1)\n",
    "wave(0,0,1)\n",
    "wave(0,1,0)"
   ]
  },
  {
   "cell_type": "code",
   "execution_count": 245,
   "metadata": {},
   "outputs": [],
   "source": [
    "for j in range(255):\n",
    "    for i in range(num_pixels):\n",
    "        pixel_index = (i * 256 // num_pixels) + j\n",
    "        pixels[i] = wheel(pixel_index & 255)\n",
    "    pixels.show()"
   ]
  },
  {
   "cell_type": "code",
   "execution_count": 353,
   "metadata": {},
   "outputs": [],
   "source": [
    "def wave(color):\n",
    "    r = color[0:2]\n",
    "    g = color[2:4]\n",
    "    b = color[4:6]\n",
    "    \n",
    "    for i in range(255):\n",
    "        pixels.fill(color)\n",
    "        pixels.show()\n",
    "        time.sleep(0.01)\n",
    "    for i in range(255):\n",
    "        pixels.fill(color)\n",
    "        pixels.show()\n",
    "        time.sleep(0.001)\n",
    "        \n",
    "def boom(pix, color=\"004040\", _delay=0.05): # 0 - 12\n",
    "    run_sing(\"000000\")\n",
    "    pix = pix if pix < 12 else 12\n",
    "    \n",
    "    r = color[0:2]\n",
    "    g = color[2:4]\n",
    "    b = color[4:6]\n",
    "    color = ((   int(r, 16) , int(g, 16) , int(b, 16)    ))\n",
    "    \n",
    "    for i in range(pix):\n",
    "        a = i\n",
    "        b = num_pixels - 1 - i\n",
    "#         print(a, b)\n",
    "        pixels[a] = color\n",
    "        pixels[b] = color\n",
    "        pixels.show()\n",
    "        time.sleep(_delay)\n",
    "        \n",
    "    for i in range(pix):\n",
    "        a = pix - i - 1\n",
    "        b = (num_pixels - pix + (i))\n",
    "#         print(a, b)\n",
    "        pixels[a] = (0,0,0)\n",
    "        pixels[b] = (0,0,0)\n",
    "        pixels.show()\n",
    "        time.sleep(_delay)\n"
   ]
  },
  {
   "cell_type": "code",
   "execution_count": 354,
   "metadata": {},
   "outputs": [],
   "source": [
    "colors = [\n",
    "    \"702030\",\n",
    "    \"702090\",\n",
    "    \"209030\",\n",
    "    \"902090\",\n",
    "    \"102060\",\n",
    "    \"502030\",\n",
    "    \"505030\",\n",
    "    \"505000\",\n",
    "    \"005050\",\n",
    "    \"605030\",\n",
    "]\n",
    "\n",
    "for x in range(25):\n",
    "    boom(random.choice(range(15)), random.choice(colors))\n",
    "    wave(random.choice(colors))\n",
    "    \n"
   ]
  }
 ],
 "metadata": {
  "kernelspec": {
   "display_name": "Python 3",
   "language": "python",
   "name": "python3"
  },
  "language_info": {
   "codemirror_mode": {
    "name": "ipython",
    "version": 3
   },
   "file_extension": ".py",
   "mimetype": "text/x-python",
   "name": "python",
   "nbconvert_exporter": "python",
   "pygments_lexer": "ipython3",
   "version": "3.7.3"
  }
 },
 "nbformat": 4,
 "nbformat_minor": 2
}
